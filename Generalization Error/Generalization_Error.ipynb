{
  "cells": [
    {
      "cell_type": "code",
      "execution_count": 87,
      "metadata": {
        "id": "BCrFwUD_21Hj"
      },
      "outputs": [],
      "source": [
        "import numpy as np\n",
        "import random\n",
        "import pprint"
      ]
    },
    {
      "cell_type": "code",
      "execution_count": 184,
      "metadata": {
        "id": "neFkeh3T-4Bx"
      },
      "outputs": [],
      "source": [
        "def create_dataset(N, mu_incorrect):\n",
        "  num_inc = int(N * mu_incorrect)\n",
        "  num_c = int(N * (1-mu_incorrect)) \n",
        "  data = [0] * num_inc + [1] * num_c\n",
        "  random.shuffle(data)\n",
        "  return data\n",
        "\n",
        "def cal_proba(err_list, mu):\n",
        "  filtered_list = [item for item in err_list if np.absolute(item - mu) < 0.05]\n",
        "  return len(filtered_list)/len(err_list)\n",
        "\n",
        "def run_experiment(num_trails, N, mu, threshold):\n",
        "  data = create_dataset(1e6, mu)\n",
        "  classify_learned = []\n",
        "  error_rate = []\n",
        "  for i in range(num_trails):\n",
        "    draws = np.array(random.choices(data, k=N))\n",
        "    rate = np.count_nonzero(draws==0)/len(draws)\n",
        "    error_rate.append(rate)\n",
        "    if rate <= threshold:\n",
        "      classify_learned.append(True)\n",
        "    else:\n",
        "      classify_learned.append(False)\n",
        "  err_len = len(error_rate)\n",
        "  mu_count = error_rate.count(mu)\n",
        "  \n",
        "  result = {\n",
        "    \"min\" : np.min(error_rate),\n",
        "    \"max\" : np.max(error_rate),\n",
        "    \"mean\" : np.mean(error_rate),\n",
        "    \"std\" : np.std(error_rate),\n",
        "    \"different_than_mu\" : err_len - mu_count,\n",
        "    \"same_as_mu\" : mu_count,\n",
        "    \"datasets_learned\" : classify_learned.count(True),\n",
        "    \"P(|E(ℎ)−𝜇|)<0.05\" : cal_proba(error_rate, mu)\n",
        "  }\n",
        "  pprint.pprint(result,width=40)"
      ]
    },
    {
      "cell_type": "code",
      "execution_count": 191,
      "metadata": {
        "colab": {
          "base_uri": "https://localhost:8080/"
        },
        "id": "3eSuArTxW2DU",
        "outputId": "2b12125d-565e-4101-94a7-16ff0f60d9ac"
      },
      "outputs": [
        {
          "name": "stdout",
          "output_type": "stream",
          "text": [
            "{'P(|E(ℎ)−𝜇|)<0.05': 1.0,\n",
            " 'datasets_learned': 0,\n",
            " 'different_than_mu': 0,\n",
            " 'max': 0.2,\n",
            " 'mean': 0.2,\n",
            " 'min': 0.2,\n",
            " 'same_as_mu': 1,\n",
            " 'std': 0.0}\n"
          ]
        }
      ],
      "source": [
        "run_experiment(1, 10, 0.2, 0.175)"
      ]
    },
    {
      "cell_type": "markdown",
      "metadata": {
        "id": "IQ47Cw85YH20"
      },
      "source": [
        "### 2.(b) Does this agree with the value of $P(E_{D^{(N)}}(h) = \\mu)$ from item (a)(ii). Yes. The estimated value (same_as_mu/total_datapoints) is consistent with theoretcially computed value. "
      ]
    },
    {
      "cell_type": "code",
      "execution_count": 198,
      "metadata": {
        "colab": {
          "base_uri": "https://localhost:8080/"
        },
        "id": "P6gICEbyYBrj",
        "outputId": "5f9c4190-70fa-4152-c109-7aa655949775"
      },
      "outputs": [
        {
          "name": "stdout",
          "output_type": "stream",
          "text": [
            "{'P(|E(ℎ)−𝜇|)<0.05': 0.31,\n",
            " 'datasets_learned': 34,\n",
            " 'different_than_mu': 69,\n",
            " 'max': 0.6,\n",
            " 'mean': 0.21200000000000002,\n",
            " 'min': 0.0,\n",
            " 'same_as_mu': 31,\n",
            " 'std': 0.1251239385569364}\n"
          ]
        }
      ],
      "source": [
        "run_experiment(100, 10, 0.2, 0.175)"
      ]
    },
    {
      "cell_type": "markdown",
      "metadata": {
        "id": "7iOvkyeVhtEe"
      },
      "source": [
        "### 2. (c). (i)."
      ]
    },
    {
      "cell_type": "code",
      "execution_count": 203,
      "metadata": {
        "colab": {
          "base_uri": "https://localhost:8080/"
        },
        "id": "7l5LbXr_hWta",
        "outputId": "1f43a8d1-f397-422d-c78e-aa1b2c72787d"
      },
      "outputs": [
        {
          "name": "stdout",
          "output_type": "stream",
          "text": [
            "{'P(|E(ℎ)−𝜇|)<0.05': 0.76,\n",
            " 'datasets_learned': 29,\n",
            " 'different_than_mu': 91,\n",
            " 'max': 0.28,\n",
            " 'mean': 0.19819999999999996,\n",
            " 'min': 0.11,\n",
            " 'same_as_mu': 9,\n",
            " 'std': 0.03803629845292521}\n"
          ]
        }
      ],
      "source": [
        "run_experiment(100, 100, 0.2, 0.175)"
      ]
    },
    {
      "cell_type": "markdown",
      "metadata": {
        "id": "5mvUQpYth7VV"
      },
      "source": [
        "### 2. (c). (ii)."
      ]
    },
    {
      "cell_type": "code",
      "execution_count": 212,
      "metadata": {
        "colab": {
          "base_uri": "https://localhost:8080/"
        },
        "id": "kF7H-cPBhcQ2",
        "outputId": "7046848d-3beb-4e9a-9197-e13586cbb731"
      },
      "outputs": [
        {
          "name": "stdout",
          "output_type": "stream",
          "text": [
            "{'P(|E(ℎ)−𝜇|)<0.05': 0.24,\n",
            " 'datasets_learned': 32,\n",
            " 'different_than_mu': 76,\n",
            " 'max': 0.8,\n",
            " 'mean': 0.5160000000000001,\n",
            " 'min': 0.1,\n",
            " 'same_as_mu': 24,\n",
            " 'std': 0.14192955999368134}\n"
          ]
        }
      ],
      "source": [
        "run_experiment(100, 10, 0.5, 0.45)"
      ]
    },
    {
      "cell_type": "markdown",
      "metadata": {
        "id": "WJLSgOpxh8_y"
      },
      "source": [
        "### 2. (c). (iii)."
      ]
    },
    {
      "cell_type": "code",
      "execution_count": 217,
      "metadata": {
        "colab": {
          "base_uri": "https://localhost:8080/"
        },
        "id": "_vxqEn-ihgzI",
        "outputId": "b493cecd-9f51-4f56-ed81-09af24492fa2"
      },
      "outputs": [
        {
          "name": "stdout",
          "output_type": "stream",
          "text": [
            "{'P(|E(ℎ)−𝜇|)<0.05': 0.73,\n",
            " 'datasets_learned': 21,\n",
            " 'different_than_mu': 91,\n",
            " 'max': 0.61,\n",
            " 'mean': 0.49329999999999996,\n",
            " 'min': 0.4,\n",
            " 'same_as_mu': 9,\n",
            " 'std': 0.044408445142787877}\n"
          ]
        }
      ],
      "source": [
        "run_experiment(100, 100, 0.5, 0.45)"
      ]
    },
    {
      "cell_type": "markdown",
      "metadata": {
        "id": "BJ6wmD2cls4l"
      },
      "source": [
        "### 2. (d).(i) How does the accuracy of your error-rate estimate from a test dataset, vary with N?\n",
        "\n",
        "The accuracy of the error-estimate is higher as N increases. We can see the mean is closer to 0.2/0.5 and standard deviation is also less as compared with those values corresponding to lower N (ie .. N=10).\n",
        "### 2. (d).(ii) For the classifier of (c)(ii),(iii): based on the true error rate, did the classifier learn anything? \n",
        "\n",
        "Yes. We can see the standard deviation is lower for classifier (iii) as compared to (ii). The min and max values are closer to the mean and shows stability with increase in N.\n",
        "\n",
        "### How many test datasets of your draws in (c)(ii) and (c)(iii) gave an error rate indicating that the classifier did learn something, assuming that E(ℎ) ≤ 0.45 means it learned something?\n",
        "\n",
        "The parameter \"datasets_learned\" in the output holds this required information. "
      ]
    }
  ],
  "metadata": {
    "colab": {
      "collapsed_sections": [],
      "name": "EE660_HW3.ipynb",
      "provenance": []
    },
    "kernelspec": {
      "display_name": "Python 3",
      "name": "python3"
    },
    "language_info": {
      "name": "python"
    }
  },
  "nbformat": 4,
  "nbformat_minor": 0
}
